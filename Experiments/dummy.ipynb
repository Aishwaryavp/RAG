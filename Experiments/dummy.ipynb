{
 "cells": [
  {
   "cell_type": "code",
   "execution_count": 3,
   "metadata": {},
   "outputs": [],
   "source": [
    "import os\n",
    "from dotenv import load_dotenv\n",
    "import sys\n",
    "from llama_index.llms.gemini import Gemini\n",
    "from IPython.display import Markdown, display\n",
    "import google.generativeai as genai\n",
    "import sys\n",
    "sys.path.append('/Users/aishu/Desktop/RAG/')\n",
    "from logger import logging\n",
    "from exception import customexception\n",
    "\n",
    "load_dotenv()\n",
    "GOOGLE_API_KEY=os.getenv(\"GOOGLE_API_KEY\")\n",
    "genai.configure(api_key=GOOGLE_API_KEY)\n",
    "\n",
    "def load_model():\n",
    "    \n",
    "    \"\"\"\n",
    "    Loads a Gemini-Pro model for natural language processing.\n",
    "\n",
    "    Returns:\n",
    "    - Gemini: An instance of the Gemini class initialized with the 'gemini-pro' model.\n",
    "    \"\"\"\n",
    "    try:\n",
    "        model=Gemini(models='gemini-pro',api_key=GOOGLE_API_KEY)\n",
    "        return model\n",
    "    except Exception as e:\n",
    "        raise customexception(e,sys)"
   ]
  },
  {
   "cell_type": "code",
   "execution_count": 4,
   "metadata": {},
   "outputs": [],
   "source": [
    "from llama_index.core import SimpleDirectoryReader\n",
    "import sys\n",
    "#sys.path.append('/Users/aishu/Desktop/RAG/QAWithPDF/')\n",
    "from logger import logging\n",
    "from exception import customexception\n",
    "\n",
    "\n",
    "def load_data(data):\n",
    "    \"\"\"\n",
    "    Load PDF documents from a specified directory.\n",
    "\n",
    "    Parameters:\n",
    "    - data (str): The path to the directory containing PDF files.\n",
    "\n",
    "    Returns:\n",
    "    - A list of loaded PDF documents. The specific type of documents may vary.\n",
    "    \"\"\"\n",
    "    try:\n",
    "        logging.info(\"data loading started...\")\n",
    "        # loader = SimpleDirectoryReader(\"Data\")\n",
    "        # documents=loader.load_data()\n",
    "        documents = SimpleDirectoryReader(\"./Data\").load_data()\n",
    "        logging.info(\"data loading completed...\")\n",
    "        return documents\n",
    "    except Exception as e:\n",
    "        logging.info(\"exception in loading data...\")\n",
    "        raise customexception(e,sys)\n",
    "\n",
    "\n",
    "\n",
    "    "
   ]
  },
  {
   "cell_type": "code",
   "execution_count": 5,
   "metadata": {},
   "outputs": [],
   "source": [
    "from llama_index.core import VectorStoreIndex\n",
    "from llama_index.core import ServiceContext\n",
    "from llama_index.core import StorageContext, load_index_from_storage\n",
    "from llama_index.embeddings.gemini import GeminiEmbedding\n",
    "\n",
    "from QAWithPDF.data_ingestion import load_data\n",
    "from QAWithPDF.model_api import load_model\n",
    "\n",
    "import sys\n",
    "from exception import customexception\n",
    "sys.path.append('/Users/aishu/Desktop/RAG/')\n",
    "from logger import logging\n",
    "\n",
    "def download_gemini_embedding(model,documents):\n",
    "    \"\"\"\n",
    "    Downloads and initializes a Gemini Embedding model for vector embeddings.\n",
    "\n",
    "    Returns:\n",
    "    - VectorStoreIndex: An index of vector embeddings for efficient similarity queries.\n",
    "    \"\"\"\n",
    "    try:\n",
    "        logging.info(\"\")\n",
    "        gemini_embed_model = GeminiEmbedding(model_name=\"models/embedding-001\")\n",
    "        #service_context = ServiceContext.from_defaults(llm=model,embed_model=gemini_embed_model, chunk_size=800, chunk_overlap=20)\n",
    "        \n",
    "        logging.info(\"\")\n",
    "        index = VectorStoreIndex.from_documents(documents,embed_model=gemini_embed_model, chunk_size=800, chunk_overlap=20)\n",
    "\n",
    "        #index = VectorStoreIndex.from_documents(documents,service_context=service_context)\n",
    "        index.storage_context.persist()\n",
    "        \n",
    "        logging.info(\"\")\n",
    "        query_engine = index.as_query_engine(llm=model)\n",
    "        return query_engine\n",
    "    except exception as e:\n",
    "        raise customexception(e,sys)"
   ]
  },
  {
   "cell_type": "code",
   "execution_count": 7,
   "metadata": {},
   "outputs": [
    {
     "ename": "NameError",
     "evalue": "name 'query_engine' is not defined",
     "output_type": "error",
     "traceback": [
      "\u001b[0;31m---------------------------------------------------------------------------\u001b[0m",
      "\u001b[0;31mNameError\u001b[0m                                 Traceback (most recent call last)",
      "Cell \u001b[0;32mIn[7], line 1\u001b[0m\n\u001b[0;32m----> 1\u001b[0m response \u001b[38;5;241m=\u001b[39m \u001b[43mquery_engine\u001b[49m\u001b[38;5;241m.\u001b[39mquery(\u001b[38;5;124m\"\u001b[39m\u001b[38;5;124mwhat is machine learning?\u001b[39m\u001b[38;5;124m\"\u001b[39m)\n",
      "\u001b[0;31mNameError\u001b[0m: name 'query_engine' is not defined"
     ]
    }
   ],
   "source": [
    "response = query_engine.query(\"what is machine learning?\")"
   ]
  },
  {
   "cell_type": "code",
   "execution_count": null,
   "metadata": {},
   "outputs": [],
   "source": []
  }
 ],
 "metadata": {
  "kernelspec": {
   "display_name": "Python 3.9.19 64-bit ('venv')",
   "language": "python",
   "name": "python3"
  },
  "language_info": {
   "codemirror_mode": {
    "name": "ipython",
    "version": 3
   },
   "file_extension": ".py",
   "mimetype": "text/x-python",
   "name": "python",
   "nbconvert_exporter": "python",
   "pygments_lexer": "ipython3",
   "version": "3.9.19"
  },
  "orig_nbformat": 4,
  "vscode": {
   "interpreter": {
    "hash": "0dcb9db18363b0a52977db301498a0e1da1cbff45fd888e1963bb1f629b742c8"
   }
  }
 },
 "nbformat": 4,
 "nbformat_minor": 2
}
